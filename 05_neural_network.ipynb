{
 "cells": [
  {
   "cell_type": "code",
   "execution_count": null,
   "metadata": {},
   "outputs": [],
   "source": [
    "# default_exp neural_network"
   ]
  },
  {
   "cell_type": "code",
   "execution_count": null,
   "metadata": {},
   "outputs": [],
   "source": [
    "#hide\n",
    "from nbdev.showdoc import *"
   ]
  },
  {
   "cell_type": "markdown",
   "metadata": {},
   "source": [
    "# Neural Network\n",
    "> Summary: Classification, Neural Network, Gradient Descent, Backpropagation, Overfitting, Regularization"
   ]
  },
  {
   "cell_type": "markdown",
   "metadata": {},
   "source": [
    "## What's a neural network?\n",
    "\n",
    "Without delving into brain analogies, I simply describe neural network as an algorithm for approximating functions. In the context of machine learning, neural network is a function that maps input to desired output, given a set of inputs $x$ and output $y$.\n",
    "\n",
    "Neural networks are a collection of a densely interconnected set of simple units, organazied into a *input layer*, one or more *hidden layers* and an *output layer*.\n",
    "\n",
    "The diagram below shows an architecture of a 3-layer neural network.\n",
    "\n",
    "![](images/nn_ex_2.jpeg)\n",
    "*Fig1. A 3-layer neural network with three inputs, two hidden layers of 4 neurons each and one output layer. [[Image Source]](http://cs231n.github.io/neural-networks-1/)*"
   ]
  },
  {
   "cell_type": "markdown",
   "metadata": {},
   "source": [
    "## Perceptron\n",
    "\n",
    "Perceptron is a single neuron that calculates a linear combination of the input (i.e. performs a dot product with the input and its weights), adds a bias $b$, applies the non-linearity (or activation function), and outputs a value. If the activation function is sigmoid $\\sigma$, the output is a number between 0 and 1.\n",
    "\n",
    "$$\\hat{y}=\\sigma(b + \\sum_{i=1}^n w_ix_i)$$\n",
    "\n",
    "where $\\sigma (t)=\\frac{1}{1+e^{-t}}$\n",
    "\n",
    "![](images/nn_perceptron.jpeg)\n",
    "*Fig2. Representation of Perceptron*\n"
   ]
  },
  {
   "cell_type": "markdown",
   "metadata": {},
   "source": [
    "## Common Activation Functions\n",
    "\n",
    "1- **Sigmoid**. Sigmoid function takes a real-valued number and \"squashes\" it into range between 0 and 1. In particular, large negative numbers become 0 and large positive numbers become 1.\n",
    "\n",
    "2- **Tanh**. Tanh function $tanh(x)=2\\sigma(2x)-1$ squashes a real-valued number to the range [-1, 1]. Its output is zero-centered. Please note that the tanh neuron is simply a scaled sigmoid neuron.\n",
    "\n",
    "3- **ReLU**. The Rectified Linear Unit has become very popular in the last few years. It computes the function $f(x)=max(0,x)$. In other words, the activation is simply thresholded at zero."
   ]
  },
  {
   "cell_type": "markdown",
   "metadata": {},
   "source": [
    "## Importance of Activation Functions\n",
    "\n",
    "The purpose of activation functions is to introduce ***non-linearity*** into the network, which enables the network to separate the data that is not linearly separable. Linear functions always create linear decisions while non-linear functions allow to approximate arbitrarily complex functions.\n",
    "\n",
    "![](images/nn_linear.png)\n",
    "![](images/nn_nonlinear.png)\n",
    "*Fig3. Left: Linear activation functions produce linear decisions. Right: Non-Linear activation functions produce non-linear decisions*. You can play with these examples in this [ConvNetsJS demo](http://cs.stanford.edu/people/karpathy/convnetjs/demo/classify2d.html)\n",
    "\n"
   ]
  },
  {
   "cell_type": "markdown",
   "metadata": {},
   "source": [
    "## Perceptron Simplified\n",
    "\n",
    "We usually simplify the perceptron representation as below.\n",
    "\n",
    "![](images/nn_perceptron_2.jpeg)\n",
    "*Fig5. Simplified perceptron*"
   ]
  },
  {
   "cell_type": "markdown",
   "metadata": {},
   "source": [
    "## Training a Neural Network\n",
    "\n",
    "We will see how we can train a neural network through an example. Let's assume that our neural network architecture looks like the image shown below.\n",
    "\n",
    "![](images/nn_ex_1.jpeg)\n",
    "\n",
    "We can see that the weights $\\mathbf{W}$ and biases $\\mathbf{b}$ are the only variables that affect the output $\\hat{y}$. Therefore, training a neural network essentially means finding the right values for the weights and biases so that they can determine the best predictions. In other words, the process of fine-tuning the weights and biases from the input data is called training neural network.\n",
    "\n",
    "Training a neural network involves two steps:\n",
    "\n",
    "- Feed-forward computation\n",
    "   \n",
    "- backpropagation"
   ]
  },
  {
   "cell_type": "markdown",
   "metadata": {},
   "source": [
    "### Feed-forward computation\n",
    "\n",
    "Feed-forward step fundamentally means *repeated matrix multiplications combined with activation function*. Considering our example network, we convert the different variables into vectors and matrices. Therefore, the input  would be a [3x1] vector. The weights of the hidden layer `W1` would be a [4x3] matrix, and its biases `b1` would be a [4x1] vector. In this layer, each neuron has its weights in a row of `W1`, so the matrix vector multiplication `np.dot(W1,x)` evaluates the activations of all neurons in this layer. For the last layer (output layer), `W2` and `b2` would be of size [1x4] and [1x1], respectively. The full forward pass of this 3-layer neural network is then simply three matrix multiplications, merged with the application of the activation function:\n",
    "\n",
    "![](images/nn_forward.jpeg)\n",
    "\n",
    "Therefore, the forward-pass is:\n",
    "\n",
    "![](images/nn_forward_full.jpeg)\n"
   ]
  },
  {
   "cell_type": "markdown",
   "metadata": {},
   "source": [
    "We need to learn the Parameters `W1,W2,b1,b2` of the above network. Please note that the input `x` could be an entire batch of training data, where each example would be a column of `x`.\n",
    "\n",
    "> Note: The forward pass of a fully-connected layer corresponds to one matrix multiplication followed by a bias offset and an activation function."
   ]
  },
  {
   "cell_type": "markdown",
   "metadata": {},
   "source": [
    "### Loss Function\n",
    "\n",
    "performing a forward-pass of the network gives us the predictions. Therefore, we must evaluate the \"goodness\" of our predictions, which means we need to measure how far off our predictions are. **Loss function** enables us to do that. The loss function measures the cost caused by incorrect predictions.\n",
    "\n",
    "if $\\mathcal{L}(\\hat{y}^{(i)},y^{(i)})$ is the loss of each example $i$ in the training set, for $i=1,2,\\cdots,m$, then total loss $J(W)$ over the entire dataset is:\n",
    "\n",
    "$$J(W)=\\frac{1}{m}\\sum_{i=1}^m \\mathcal{L}(\\hat{y}^{(i)},y^{(i)})$$\n",
    "\n",
    "Please note that $W=[W^{(1)}, W^{(2)},\\cdots, W^{(L)}]$, where $W^{(j)}$ is matrix of weights of layer $j$"
   ]
  },
  {
   "cell_type": "markdown",
   "metadata": {},
   "source": [
    "### Cross Entropy Loss\n",
    "\n",
    "Cross entropy loss is used in classification problems and outputs a probability between 0 and 0.\n",
    "\n",
    "$$J(W)=\\frac{1}{m}\\sum_{i=1}^m \\left[ y^{(i)}\\log(\\hat{y}^{(i)}) + (1-y^{(i)})\\log(1-\\hat{y}^{(i)})\\right]$$"
   ]
  },
  {
   "cell_type": "markdown",
   "metadata": {},
   "source": [
    "### Mean Squared Error Loss\n",
    "\n",
    "Mean squared error loss is used in regression problems and outputs a real-valued number.\n",
    "\n",
    "$$J(W)=\\frac{1}{m}\\sum_{i=1}^m \\left( y^{(i)} - \\hat{y}^{(i)} \\right)^2$$\n"
   ]
  },
  {
   "cell_type": "markdown",
   "metadata": {},
   "source": [
    "### Backpropagation\n",
    "\n",
    "\n",
    "Our goal in training is to find the weights and biases that minimizes the loss function:\n",
    "\n",
    "$$W^* = \\underset{W}{\\arg\\min}\\ J(W)$$\n",
    "\n",
    "After we measured the loss, we need to find a way to **propagate** the error back, and update our weights and biases, in order to decrease the loss. But how much should we adjust the weights and biases.\n",
    "\n",
    "In order to find the appropriate amount of change in the weights and biases, we need to take the derivative of the loss function with respect to the weights and biases. The process of computing gradients of expressions through recursive application of chain rule is called **backpropagation**. When we have the gradients, we can use the *gradient descent* algorithm to update the weights.\n",
    "\n",
    "Gradient descent algorithm:\n",
    "1. Initialize the weights randomly $\\sim N(0,\\sigma^2)$\n",
    "2. Loop until convergence:\n",
    "   1. Compute gradient, $\\frac{\\partial J(\\mathbf{W})}{\\partial \\mathbf{W}}$\n",
    "   2. Update weights, $W = W-\\eta \\frac{\\partial J(W)}{\\partial W}$\n",
    "3. Return weights\n",
    "\n",
    "For instance, if we are going to compute the gradient with respect to $w_1$, in our example network below, we have:\n",
    "![](images/nn_backprop.jpeg)\n",
    "\n",
    "We need to repeat this **for every weight in the network** using gradients from later layers.\n"
   ]
  },
  {
   "cell_type": "markdown",
   "metadata": {},
   "source": [
    "The full backpropagation of our model is: ($\\odot$ is the element-wise multiplication)\n",
    "\n",
    "![](images/nn_backprop_full.jpeg)"
   ]
  },
  {
   "cell_type": "code",
   "execution_count": null,
   "metadata": {},
   "outputs": [],
   "source": []
  }
 ],
 "metadata": {
  "kernelspec": {
   "display_name": "Python 3",
   "language": "python",
   "name": "python3"
  }
 },
 "nbformat": 4,
 "nbformat_minor": 4
}
