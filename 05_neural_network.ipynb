{
 "cells": [
  {
   "cell_type": "code",
   "execution_count": null,
   "metadata": {},
   "outputs": [],
   "source": [
    "# default_exp neural_network"
   ]
  },
  {
   "cell_type": "code",
   "execution_count": null,
   "metadata": {},
   "outputs": [],
   "source": [
    "#hide\n",
    "from nbdev.showdoc import *"
   ]
  },
  {
   "cell_type": "markdown",
   "metadata": {},
   "source": [
    "# Neural Network\n",
    "> Summary: Classification, Neural Network, Gradient Descent, Backpropagation, Overfitting, Regularization"
   ]
  },
  {
   "cell_type": "markdown",
   "metadata": {},
   "source": [
    "## What's a neural network?\n",
    "\n",
    "Without delving into brain analogies, I simply describe neural network as an algorithm for approximating functions. In the context of machine learning, neural network is a function that maps input to desired output, given a set of inputs $x$ and output $y$.\n",
    "\n",
    "Neural networks are a collection of a densely interconnected set of simple units, organazied into a *input layer*, one or more *hidden layers* and an *output layer*.\n",
    "\n",
    "The diagram below shows an architecture of a 3-layer neural network.\n",
    "\n",
    "![](images/neural_net_1.jpeg)\n",
    "*Fig1. A 3-layer neural network with three inputs, two hidden layers of 4 neurons each and one output layer. [[Image Source]](http://cs231n.github.io/neural-networks-1/)*"
   ]
  },
  {
   "cell_type": "code",
   "execution_count": null,
   "metadata": {},
   "outputs": [],
   "source": [
    "\n"
   ]
  },
  {
   "cell_type": "code",
   "execution_count": null,
   "metadata": {},
   "outputs": [],
   "source": []
  }
 ],
 "metadata": {
  "kernelspec": {
   "display_name": "Python 3",
   "language": "python",
   "name": "python3"
  }
 },
 "nbformat": 4,
 "nbformat_minor": 4
}
