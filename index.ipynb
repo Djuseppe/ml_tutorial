{
 "cells": [
  {
   "cell_type": "code",
   "execution_count": null,
   "metadata": {},
   "outputs": [
    {
     "name": "stdout",
     "output_type": "stream",
     "text": [
      "The autoreload extension is already loaded. To reload it, use:\n",
      "  %reload_ext autoreload\n"
     ]
    }
   ],
   "source": [
    "#hide\n",
    "%load_ext autoreload\n",
    "%autoreload 2"
   ]
  },
  {
   "cell_type": "code",
   "execution_count": null,
   "metadata": {},
   "outputs": [],
   "source": [
    "#hide\n",
    "# from ml_tutorial import *"
   ]
  },
  {
   "cell_type": "markdown",
   "metadata": {},
   "source": [
    "# Machine Learning Concepts\n",
    "\n",
    "> This project aims to create intuitive tutorials for some of machine learning concepts."
   ]
  },
  {
   "cell_type": "markdown",
   "metadata": {},
   "source": [
    "## Acknowlegement\n",
    "\n",
    "I would like to give full credit to several outstanding individuals including Tom Mitchell, Andrew Ng, Emily Fox, Ali Farhadi, Pedro Domingos and many others, as lots of the materials presented here have been adopted from their machine learning courses."
   ]
  },
  {
   "cell_type": "markdown",
   "metadata": {},
   "source": [
    "## Topics\n",
    "Topics are constantly updated and new tutorial is added. The current topics are:"
   ]
  },
  {
   "cell_type": "markdown",
   "metadata": {},
   "source": [
    "[1- Introduction to MLE and MAP](mle_map)\n",
    "\n",
    "\n",
    "[2- Naive Bayes Classifier](core) (in progress)\n",
    "\n",
    "\n",
    "[3- Linear Regression](linear_regression)\n",
    "\n",
    "\n",
    "[4- Logistic Regression](logistic_regression)\n",
    "\n"
   ]
  },
  {
   "cell_type": "code",
   "execution_count": null,
   "metadata": {},
   "outputs": [],
   "source": []
  }
 ],
 "metadata": {
  "kernelspec": {
   "display_name": "Python 3",
   "language": "python",
   "name": "python3"
  }
 },
 "nbformat": 4,
 "nbformat_minor": 2
}
